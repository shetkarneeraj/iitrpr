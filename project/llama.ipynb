{
 "cells": [
  {
   "cell_type": "code",
   "execution_count": 1,
   "metadata": {},
   "outputs": [],
   "source": [
    "import ollama\n",
    "import re\n",
    "import json"
   ]
  },
  {
   "cell_type": "code",
   "execution_count": null,
   "metadata": {},
   "outputs": [],
   "source": [
    "def generate_questions_from_transcript(filename, model='llama3.2'):\n",
    "    task_description = \"\"\"\n",
    "        You are an AI tasked with generating multiple-choice questions (MCQs) from a given transcript. \n",
    "        Your goal is to:\n",
    "        1. Identify important concepts, events, or details in the transcript.\n",
    "        2. Frame questions in a simple and clear manner based on these concepts.\n",
    "        3. Provide 4 answer options for each question, ensuring one is correct and the others are plausible but incorrect.\n",
    "        4. Specify the index (0-based) of the correct answer for each question.\n",
    "        5. Format your response as a JSON list where each entry follows the structure:\n",
    "        { \"question\": \"<question_text>\", \"options\": [\"<option1>\", \"<option2>\", \"<option3>\", \"<option4>\"], \"correct_answer\": <index_of_correct_option> }\n",
    "\n",
    "        Example output:\n",
    "        [\n",
    "            {\n",
    "                \"question\": \"What is the capital of France?\",\n",
    "                \"options\": [\"Berlin\", \"Madrid\", \"Paris\", \"Rome\"],\n",
    "                \"correct_answer\": 2\n",
    "            },\n",
    "            {\n",
    "                \"question\": \"Which planet is known as the Red Planet?\",\n",
    "                \"options\": [\"Earth\", \"Mars\", \"Jupiter\", \"Venus\"],\n",
    "                \"correct_answer\": 1\n",
    "            },\n",
    "            {\n",
    "                \"question\": \"What is the chemical symbol for water?\",\n",
    "                \"options\": [\"H2O\", \"O2\", \"CO2\", \"NaCl\"],\n",
    "                \"correct_answer\": 0\n",
    "            }\n",
    "        ]\n",
    "        Your input will be a transcript, and you will generate 3 questions based on its content in this exact format.\n",
    "    \"\"\"\n",
    "\n",
    "    with open(filename, 'r') as file:\n",
    "        transcript = file.read()\n",
    "\n",
    "    prompt = task_description + '\\n Here is the transcript content: \\n' + transcript + 'Generate 3 questions as a JSON list, each question following the specified json format { \"question\": \"<question_text>\", \"options\": [\"<option1>\", \"<option2>\", \"<option3>\", \"<option4>\"], \"correct_answer\": <index_of_correct_option> }.'\n",
    "\n",
    "\n",
    "    response = ollama.generate(model=model, prompt=prompt)\n",
    "\n",
    "    response[\"response\"]"
   ]
  },
  {
   "cell_type": "code",
   "execution_count": 17,
   "metadata": {},
   "outputs": [
    {
     "name": "stdout",
     "output_type": "stream",
     "text": [
      "Here are three questions based on the provided text in JSON format:\n",
      "\n",
      "```json\n",
      "[\n",
      "  {\n",
      "    \"question\": \"What is a key advantage of using GRUs over LSTMs?\",\n",
      "    \"options\": [\"GRUs are more powerful and flexible\", \"GRUs are simpler models that scale better\", \"LSTMs are easier to build bigger networks\", \"GRUs can capture longer range dependencies\"],\n",
      "    \"correct_answer\": 1\n",
      "  },\n",
      "  {\n",
      "    \"question\": \"What is a common variation of LSTMs?\",\n",
      "    \"options\": [\"Peephole connection with only t-1 values\", \"Peephole connection with both t-1 and x_t values\", \"Peephole connection that affects all gates\", \"Peephole connection that only affects the first gate\"],\n",
      "    \"correct_answer\": 2\n",
      "  },\n",
      "  {\n",
      "    \"question\": \"Which algorithm is more commonly used as a default choice, despite LSTMs being more historically proven?\",\n",
      "    \"options\": [\"GRUs are always preferred\", \"LSTMs are often used in new projects\", \"The choice between GRUs and LSTMs depends on the problem\", \"There isn't a universally superior algorithm\"],\n",
      "    \"correct_answer\": 2\n",
      "  }\n",
      "]\n",
      "```\n",
      "\n",
      "Note that I've based my questions on the provided text, but feel free to adjust or add more as needed!\n"
     ]
    }
   ],
   "source": [
    "generate_questions_from_transcript(\"subtitle.txt\")"
   ]
  },
  {
   "cell_type": "code",
   "execution_count": 18,
   "metadata": {},
   "outputs": [
    {
     "name": "stdout",
     "output_type": "stream",
     "text": [
      "Here are three questions based on the text in the JSON format:\n",
      "\n",
      "```json\n",
      "[\n",
      "  {\n",
      "    \"question\": \"What is a key advantage of using a GRU over an LSTM?\",\n",
      "    \"options\": [\"GRUs are more powerful and flexible\", \"GRUs are simpler models\", \"GRUs are faster to compute\", \"GRUs are better for scaling larger networks\"],\n",
      "    \"correct_answer\": 1\n",
      "  },\n",
      "  {\n",
      "    \"question\": \"What is the purpose of a peephole connection in LSTMs?\",\n",
      "    \"options\": [\"To make the gates more independent of each other\", \"To reduce the computational complexity of the model\", \"To allow the gate values to depend on both t-1 and x_t as well as c_(t-1)\", \"To eliminate the need for memory cells\"],\n",
      "    \"correct_answer\": 2\n",
      "  },\n",
      "  {\n",
      "    \"question\": \"Why do researchers recommend using LSTMs over GRUs for certain problems?\",\n",
      "    \"options\": [\"Because LSTMs are simpler models that are easier to build and scale\", \"Because LSTMs have been historically more proven and widely used\", \"Because LSTMs can capture longer range dependencies than GRUs\", \"Because LSTMs are faster to compute than GRUs\"],\n",
      "    \"correct_answer\": 2\n",
      "  }\n",
      "]\n",
      "```\n",
      "\n",
      "Note: The correct answers are based on the information provided in the text and may not be universally true.\n"
     ]
    }
   ],
   "source": [
    "generate_questions_from_transcript(\"subtitle.txt\")"
   ]
  },
  {
   "cell_type": "code",
   "execution_count": 19,
   "metadata": {},
   "outputs": [
    {
     "name": "stdout",
     "output_type": "stream",
     "text": [
      "Here are three questions based on the provided text in JSON format:\n",
      "\n",
      "```\n",
      "[\n",
      "  {\n",
      "    \"question\": \"What is a peephole connection in LSTMs?\",\n",
      "    \"options\": [\"A type of activation function\", \"A technique to improve memory cell accessibility\", \"A variation of the LSTM model where gate values depend on c t -1\", \"A way to reduce computational complexity\"],\n",
      "    \"correct_answer\": 2\n",
      "  },\n",
      "  {\n",
      "    \"question\": \"Which algorithm is considered more powerful and flexible?\",\n",
      "    \"options\": [\"GRU\", \"LSTM\", \"Both are equally good for all problems\", \"Neither is more powerful than the other\"],\n",
      "    \"correct_answer\": 1\n",
      "  },\n",
      "  {\n",
      "    \"question\": \"What is a benefit of using GRUs over LSTMs?\",\n",
      "    \"options\": [\"They are more powerful and flexible\", \"They are simpler to build and scale\", \"They can only capture shorter-range dependencies\", \"They are not suitable for long-term memory\"],\n",
      "    \"correct_answer\": 1\n",
      "  }\n",
      "]\n",
      "```\n",
      "\n",
      "Note that the `correct_answer` index is 0-based, so if you want to use a 1-based index, you would need to subtract 1 from each value.\n"
     ]
    }
   ],
   "source": [
    "generate_questions_from_transcript(\"subtitle.txt\")"
   ]
  },
  {
   "cell_type": "code",
   "execution_count": 20,
   "metadata": {},
   "outputs": [
    {
     "name": "stdout",
     "output_type": "stream",
     "text": [
      "Here are three questions based on the provided text in JSON format:\n",
      "\n",
      "```json\n",
      "[\n",
      "  {\n",
      "    \"question\": \"What is a peephole connection in LSTMs?\",\n",
      "    \"options\": [\"A type of activation function\", \"A way to reduce memory usage\", \"A connection that allows the gate values to depend on both a t-1 and x t\", \"A technique for improving model convergence\"],\n",
      "    \"correct_answer\": 2\n",
      "  },\n",
      "  {\n",
      "    \"question\": \"Which algorithm is more powerful and flexible than GRUs?\",\n",
      "    \"options\": [\"GRUs only\", \"LSTMs only\", \"Both LSTMs and GRUs are equally powerful\", \"Neither GRUs nor LSTMs are the better choice\"],\n",
      "    \"correct_answer\": 1\n",
      "  },\n",
      "  {\n",
      "    \"question\": \"Why is the LSTM considered more proven than GRU?\",\n",
      "    \"options\": [\"Because it has fewer gates\", \"Because it has a simpler architecture\", \"Because it has been historically more widely used\", \"Because it is only used for specific tasks\"],\n",
      "    \"correct_answer\": 3\n",
      "  }\n",
      "]\n",
      "```\n",
      "\n",
      "Note: The correct answers are based on the information provided in the text and may not be absolute or definitive.\n"
     ]
    }
   ],
   "source": [
    "generate_questions_from_transcript(\"subtitle.txt\")"
   ]
  },
  {
   "cell_type": "code",
   "execution_count": 21,
   "metadata": {},
   "outputs": [
    {
     "name": "stdout",
     "output_type": "stream",
     "text": [
      "Here are three questions based on the text in JSON format:\n",
      "\n",
      "```\n",
      "[\n",
      "  {\n",
      "    \"question\": \"What is the main difference between GRUs and LSTMs?\",\n",
      "    \"options\": [\"GRU has only one gate\", \"LSTM has more gates than GRU\", \"LSTM is a simpler model than GRU\", \"LSTM is faster to compute\"],\n",
      "    \"correct_answer\": 1\n",
      "  },\n",
      "  {\n",
      "    \"question\": \"Why are LSTMs considered more powerful and flexible than GRUs?\",\n",
      "    \"options\": [\"Because of the additional gate that affects all elements of the hidden state\"], \n",
      "    \"correct_answer\": 2\n",
      "  },\n",
      "  {\n",
      "    \"question\": \"What is a peephole connection in an LSTM model?\",\n",
      "    \"options\": [\"A way to use multiple inputs for a single output\", \"A type of recurrent connection that allows information from previous time steps to affect the current time step\", \"A way to speed up computation by using less parameters\", \"A type of activation function used in LSTMs\"],\n",
      "    \"correct_answer\": 2\n",
      "  }\n",
      "]\n",
      "```\n"
     ]
    }
   ],
   "source": [
    "generate_questions_from_transcript(\"subtitle.txt\")"
   ]
  },
  {
   "cell_type": "code",
   "execution_count": 22,
   "metadata": {},
   "outputs": [
    {
     "name": "stdout",
     "output_type": "stream",
     "text": [
      "Here are three questions based on the provided text in JSON format:\n",
      "\n",
      "```json\n",
      "[\n",
      "  {\n",
      "    \"question\": \"What is one technical detail of LSTMs?\",\n",
      "    \"options\": [\n",
      "      \"They can only be used for simple problems\",\n",
      "      \"LSTM cells have a fixed dimension size\",\n",
      "      \"The relationship between c t -1 and the gate values is 1 to 1\",\n",
      "      \"LSTMs are always faster than GRUs\"\n",
      "    ],\n",
      "    \"correct_answer\": 2\n",
      "  },\n",
      "  {\n",
      "    \"question\": \"What is an advantage of using GRU over LSTM?\",\n",
      "    \"options\": [\n",
      "      \"GRUs are more powerful and flexible\",\n",
      "      \"GRUs are simpler models\",\n",
      "      \"LSTMs can capture longer range dependencies\",\n",
      "      \"GRUs are only used for simple problems\"\n",
      "    ],\n",
      "    \"correct_answer\": 1\n",
      "  },\n",
      "  {\n",
      "    \"question\": \"When should you use GRU over LSTM?\",\n",
      "    \"options\": [\n",
      "      \"When you need to build bigger models\",\n",
      "      \"When you want to capture longer range dependencies\",\n",
      "      \"GRUs are simpler and easier to scale\",\n",
      "      \"LSTMs have been historically proven\"\n",
      "    ],\n",
      "    \"correct_answer\": 3\n",
      "  }\n",
      "]\n",
      "```\n",
      "\n",
      "Note that the questions and options are based on the provided text, but some inferences were made to create coherent and logical questions.\n"
     ]
    }
   ],
   "source": [
    "generate_questions_from_transcript(\"subtitle.txt\")"
   ]
  },
  {
   "cell_type": "code",
   "execution_count": 23,
   "metadata": {},
   "outputs": [
    {
     "name": "stdout",
     "output_type": "stream",
     "text": [
      "Here are three questions based on the provided text in JSON format:\n",
      "\n",
      "```\n",
      "[\n",
      "  {\n",
      "    \"question\": \"What is a peephole connection in LSTMs?\",\n",
      "    \"options\": [\n",
      "      \"A feature that allows the LSTM to learn from multiple time steps\",\n",
      "      \"A way of improving the memory efficiency of the model\",\n",
      "      \"A type of connection where the gate values depend on both a t-1 and x t\",\n",
      "      \"A simplification of the LSTM model\"\n",
      "    ],\n",
      "    \"correct_answer\": 2\n",
      "  },\n",
      "  {\n",
      "    \"question\": \"Which algorithm is generally considered more powerful and flexible?\",\n",
      "    \"options\": [\n",
      "      \"GRU\",\n",
      "      \"LSTM\",\n",
      "      \"Both are equally powerful\",\n",
      "      \"Neither is more powerful than the other\"\n",
      "    ],\n",
      "    \"correct_answer\": 1\n",
      "  },\n",
      "  {\n",
      "    \"question\": \"Why do some people prefer to use GRUs over LSTMs?\",\n",
      "    \"options\": [\n",
      "      \"Because they are easier to build and train\",\n",
      "      \"Because they are simpler to understand and interpret\",\n",
      "      \"Because they can capture longer range dependencies\",\n",
      "      \"Because they are slower than LSTMs\"\n",
      "    ],\n",
      "    \"correct_answer\": 2\n",
      "  }\n",
      "]\n",
      "```\n",
      "\n",
      "Note that the correct answers are based on the provided text and may not be universally true.\n"
     ]
    }
   ],
   "source": [
    "generate_questions_from_transcript(\"subtitle.txt\")"
   ]
  },
  {
   "cell_type": "code",
   "execution_count": 24,
   "metadata": {},
   "outputs": [
    {
     "name": "stdout",
     "output_type": "stream",
     "text": [
      "Here are three questions based on the provided text in JSON format:\n",
      "\n",
      "```\n",
      "[\n",
      "  {\n",
      "    \"question\": \"What is a peephole connection in LSTMs?\",\n",
      "    \"options\": [\n",
      "      \"A type of memory cell\",\n",
      "      \"A way to reduce computational complexity\",\n",
      "      \"A method where the gate values depend on both a t-1 and x t\",\n",
      "      \"A type of activation function\"\n",
      "    ],\n",
      "    \"correct_answer\": 2\n",
      "  },\n",
      "  {\n",
      "    \"question\": \"Which algorithm is considered more powerful and flexible?\",\n",
      "    \"options\": [\n",
      "      \"GRU\",\n",
      "      \"LSTM\",\n",
      "      \"Both are equally effective\",\n",
      "      \"It depends on the problem\"\n",
      "    ],\n",
      "    \"correct_answer\": 1\n",
      "  },\n",
      "  {\n",
      "    \"question\": \"Why do some researchers prefer to use GRUs over LSTMs?\",\n",
      "    \"options\": [\n",
      "      \"Because they are simpler and easier to build\",\n",
      "      \"Because they are more computationally efficient\",\n",
      "      \"Because they have been gaining momentum in recent years\",\n",
      "      \"Because they are better suited for certain types of problems\"\n",
      "    ],\n",
      "    \"correct_answer\": 3\n",
      "  }\n",
      "]\n",
      "```\n",
      "\n",
      "Note that I've reformatted the text to fit the JSON format, and also reworded some of the questions to make them more concise and clear. Let me know if you have any further requests!\n"
     ]
    }
   ],
   "source": [
    "generate_questions_from_transcript(\"subtitle.txt\")"
   ]
  },
  {
   "cell_type": "code",
   "execution_count": 25,
   "metadata": {},
   "outputs": [
    {
     "name": "stdout",
     "output_type": "stream",
     "text": [
      "Here are three questions based on the provided text in JSON format:\n",
      "\n",
      "```json\n",
      "[\n",
      "  {\n",
      "    \"question\": \"What is a key advantage of using GRUs compared to LSTMs?\",\n",
      "    \"options\": [\n",
      "      \"LSTMs have more gates than GRUs.\",\n",
      "      \"GRUs are simpler and scale better to larger models.\",\n",
      "      \"LSTMs can capture longer range dependencies than GRUs.\",\n",
      "      \"GRUs are faster than LSTMs.\"\n",
      "    ],\n",
      "    \"correct_answer\": 1\n",
      "  },\n",
      "  {\n",
      "    \"question\": \"What is a peephole connection in the context of LSTMs?\",\n",
      "    \"options\": [\n",
      "      \"A type of activation function used in LSTMs.\",\n",
      "      \"A way to improve memory cell initialization.\",\n",
      "      \"A technique where the gate values depend on both the current input and the previous memory cell value.\",\n",
      "      \"A method to add more layers to an LSTM.\"\n",
      "    ],\n",
      "    \"correct_answer\": 2\n",
      "  },\n",
      "  {\n",
      "    \"question\": \"What is a widely accepted consensus among researchers about when to use GRUs versus LSTMs?\",\n",
      "    \"options\": [\n",
      "      \"Use GRUs for all problems and LSTMs only as a fallback.\",\n",
      "      \"Use GRUs for simple problems and LSTMs for complex problems.\",\n",
      "      \"Use LSTMs for simpler models and GRUs for more complex models.\",\n",
      "      \"There is no universally superior algorithm, so use both as needed.\"\n",
      "    ],\n",
      "    \"correct_answer\": 3\n",
      "  }\n",
      "]\n",
      "```\n",
      "\n",
      "Note: The correct answers are based on the text provided and may not be universally accepted or proven in all contexts.\n"
     ]
    }
   ],
   "source": [
    "generate_questions_from_transcript(\"subtitle.txt\")"
   ]
  },
  {
   "cell_type": "code",
   "execution_count": null,
   "metadata": {},
   "outputs": [],
   "source": []
  }
 ],
 "metadata": {
  "kernelspec": {
   "display_name": "venv",
   "language": "python",
   "name": "python3"
  },
  "language_info": {
   "codemirror_mode": {
    "name": "ipython",
    "version": 3
   },
   "file_extension": ".py",
   "mimetype": "text/x-python",
   "name": "python",
   "nbconvert_exporter": "python",
   "pygments_lexer": "ipython3",
   "version": "3.12.5"
  }
 },
 "nbformat": 4,
 "nbformat_minor": 2
}
